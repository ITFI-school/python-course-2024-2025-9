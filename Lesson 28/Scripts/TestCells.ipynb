{
 "cells": [
  {
   "cell_type": "markdown",
   "metadata": {},
   "source": [
    "# Блокнот для тестирования основных функций\n",
    "## Ячейки кода"
   ]
  },
  {
   "cell_type": "code",
   "execution_count": 1,
   "metadata": {
    "scrolled": true
   },
   "outputs": [
    {
     "name": "stdout",
     "output_type": "stream",
     "text": [
      "Hello, world!\n"
     ]
    }
   ],
   "source": [
    "# Это ячейка кода, которая интерпретируется ядром Python3. Слева от неё есть отметка In [].\n",
    "# Нажми ctrl+enter, чтобы запустить её, результат вывода отобразится ниже.\n",
    "\n",
    "print('Hello, world!')"
   ]
  },
  {
   "cell_type": "code",
   "execution_count": 2,
   "metadata": {},
   "outputs": [
    {
     "name": "stdout",
     "output_type": "stream",
     "text": [
      "5\n"
     ]
    }
   ],
   "source": [
    "# Это ещё одна ячейка кода. \n",
    "# Нажми shift+enter, чтобы запустить её и перейти на следующую ячейку.\n",
    "\n",
    "a = 5\n",
    "print(a)"
   ]
  },
  {
   "cell_type": "code",
   "execution_count": 3,
   "metadata": {},
   "outputs": [
    {
     "name": "stdout",
     "output_type": "stream",
     "text": [
      "10\n"
     ]
    }
   ],
   "source": [
    "# Эта ячейка кода использует переменную, объявленную в другой ячейке.\n",
    "# Такое возможно, потому что все ячейки выполняются одним ядром. \n",
    "# Порядок выполнения ячеек указан в квадратных скобках метки In [].\n",
    "# Если выполнить команду ядра restart и запустить только эту ячейку, возникнет ошибка,\n",
    "# потому что переменная а определена в предыдущей ячейке, которая ещё не выполнилась.\n",
    "\n",
    "print(a + 5)"
   ]
  },
  {
   "cell_type": "markdown",
   "metadata": {},
   "source": [
    "## Ячейки markdown\n",
    "Для редактирования ячейки нажмите на неё дважды"
   ]
  },
  {
   "cell_type": "markdown",
   "metadata": {},
   "source": [
    "# Заголовок первого уровня\n",
    "## Заголовок второго уровня\n",
    "### Заголовок третьего уровня"
   ]
  },
  {
   "cell_type": "markdown",
   "metadata": {},
   "source": [
    "Курсив обозначается *звездочками* или _подчеркиванием_. \n",
    "\n",
    "Полужирный шрифт – двойными **звездочками** или __подчеркиванием__. \n",
    "\n",
    "Для зачеркнутого текста используются две тильды ~~Уберите это.~~\n"
   ]
  },
  {
   "cell_type": "markdown",
   "metadata": {},
   "source": [
    "1. Первый пункт нумерованного списка.\n",
    "2. Второй пункт.\n",
    "  1. Пункт вложенного списка.\n",
    "  1. На самом деле без разницы, какой цифрой обозначен пункт, главное, чтобы это была цифра"
   ]
  },
  {
   "cell_type": "markdown",
   "metadata": {},
   "source": [
    "* Ненумерованный список можно размечать звездочками.\n",
    "- А ещё минусами\n",
    "+ Или плюсами\n",
    "* В итоге всё выглядит одинаково"
   ]
  },
  {
   "cell_type": "markdown",
   "metadata": {},
   "source": [
    "[Так оформляется ссылка](https://www.google.com)"
   ]
  },
  {
   "cell_type": "markdown",
   "metadata": {},
   "source": [
    "> С помощью цитат очень удобно в письме обозначать исходный текст.\n",
    "> Эта строка - часть той же цитаты.\n",
    "\n",
    "Вот что я об этом думаю:\n",
    "...\n"
   ]
  },
  {
   "cell_type": "markdown",
   "metadata": {},
   "source": [
    "Это LaTeX-выражение:\n",
    "\n",
    "$e^{i\\pi} + 1 = 0$"
   ]
  },
  {
   "cell_type": "code",
   "execution_count": null,
   "metadata": {},
   "outputs": [],
   "source": []
  },
  {
   "cell_type": "markdown",
   "metadata": {},
   "source": [
    "### Напоследок давайте полюбуемся питоном:\n",
    "\n",
    "![Python](https://infostart.ru/upload/iblock/0d9/0d9fd67015a26947bacfa731a14b3e7d.png)"
   ]
  },
  {
   "cell_type": "markdown",
   "metadata": {},
   "source": []
  }
 ],
 "metadata": {
  "kernelspec": {
   "display_name": "Python 3",
   "language": "python",
   "name": "python3"
  },
  "language_info": {
   "codemirror_mode": {
    "name": "ipython",
    "version": 3
   },
   "file_extension": ".py",
   "mimetype": "text/x-python",
   "name": "python",
   "nbconvert_exporter": "python",
   "pygments_lexer": "ipython3",
   "version": "3.7.6"
  }
 },
 "nbformat": 4,
 "nbformat_minor": 4
}
